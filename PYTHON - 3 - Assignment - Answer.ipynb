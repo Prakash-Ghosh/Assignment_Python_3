{
 "cells": [
  {
   "cell_type": "markdown",
   "metadata": {},
   "source": [
    "# PYTHON - 3 - Assignment"
   ]
  },
  {
   "cell_type": "markdown",
   "metadata": {},
   "source": [
    "##    By Prakash Ghosh\n",
    "## ---------------------------------------------------------------------------------------------------------------------------------"
   ]
  },
  {
   "cell_type": "markdown",
   "metadata": {},
   "source": [
    "### Problem 1.1 Write a Python Program to implement your own myreduce() function which works exactly like Python's built-in function reduce()"
   ]
  },
  {
   "cell_type": "code",
   "execution_count": 1,
   "metadata": {},
   "outputs": [
    {
     "name": "stdout",
     "output_type": "stream",
     "text": [
      "Input Range: \n",
      "\t range(1, 10)\n",
      "\n",
      "Add Reduce: \n",
      "\t 45\n",
      "\n",
      "Substraction Reduce: \n",
      "\t -43\n",
      "\n",
      "Multiply Reducee: \n",
      "\t 362880\n"
     ]
    }
   ],
   "source": [
    "# myfilter function\n",
    "def myreduce(InputFunction,lstInputRange):\n",
    "    n1 = lstInputRange[0]\n",
    "    n2 = lstInputRange[1]\n",
    "    out = InputFunction(n1,n2)\n",
    "    n1=out\n",
    "    counter=0\n",
    "    for i in lstInputRange:\n",
    "        counter=counter+1    \n",
    "        if counter > 2:            \n",
    "            n2 = i\n",
    "            out = InputFunction(n1,n2)\n",
    "            n1=out            \n",
    "    return out\n",
    "\n",
    "# Input Functions\n",
    "def func_Add(num1,num2):\n",
    "    return num1+num2\n",
    "\n",
    "def func_Substract(num1,num2):\n",
    "    return num1-num2\n",
    "\n",
    "def func_Multiply(num1,num2):\n",
    "    return num1*num2\n",
    "\n",
    "# Call myreduce       \n",
    "lstInputRange=range(1,10)\n",
    "print('Input Range: \\n\\t',lstInputRange)\n",
    "print('\\nAdd Reduce: \\n\\t', myreduce(func_Add,lstInputRange))\n",
    "print('\\nSubstraction Reduce: \\n\\t', myreduce(func_Substract,lstInputRange))\n",
    "print('\\nMultiply Reducee: \\n\\t', myreduce(func_Multiply,lstInputRange))    \n"
   ]
  },
  {
   "cell_type": "markdown",
   "metadata": {},
   "source": [
    "### Problem 1.2 Write a Python program to implement your own myfilter() function which works exactly like Python's built-in function filter()\n"
   ]
  },
  {
   "cell_type": "code",
   "execution_count": 2,
   "metadata": {},
   "outputs": [
    {
     "name": "stdout",
     "output_type": "stream",
     "text": [
      "Input Range: \n",
      "\t range(1, 50)\n",
      "\n",
      "Even Number from Range: \n",
      "\t [2, 4, 6, 8, 10, 12, 14, 16, 18, 20, 22, 24, 26, 28, 30, 32, 34, 36, 38, 40, 42, 44, 46, 48]\n",
      "\n",
      "Odd Number from Range: \n",
      "\t [1, 3, 5, 7, 9, 11, 13, 15, 17, 19, 21, 23, 25, 27, 29, 31, 33, 35, 37, 39, 41, 43, 45, 47, 49]\n",
      "\n",
      "Perfect Square Number from Range: \n",
      "\t [1, 4, 9, 16, 25, 36, 49]\n"
     ]
    }
   ],
   "source": [
    "#myFilter Function\n",
    "def myfilter(eventFunction,lstInputRange):    \n",
    "    lstOutput=[]\n",
    "    for item in lstInputRange:\n",
    "        if eventFunction(item)==True:\n",
    "            lstOutput.append(item)\n",
    "    return lstOutput\n",
    "\n",
    "#Event Check Functions\n",
    "def IsEven(intInput):\n",
    "    if intInput%2==0:\n",
    "        return True\n",
    "\n",
    "def IsOdd(intInput):\n",
    "    if intInput%2!=0:\n",
    "        return True\n",
    "\n",
    "def IsPerfectSquare(intInput):\n",
    "    intTemp = int(pow(intInput, 1/2))\n",
    "    intTemp = pow(intTemp, 2)\n",
    "    if intTemp==intInput:\n",
    "        return True\n",
    "\n",
    "# Call myfilter\n",
    "lstInputRange = range(1,50)\n",
    "print('Input Range: \\n\\t',lstInputRange)\n",
    "print('\\nEven Number from Range: \\n\\t', myfilter(IsEven,lstInputRange))\n",
    "print('\\nOdd Number from Range: \\n\\t', myfilter(IsOdd,lstInputRange))\n",
    "print('\\nPerfect Square Number from Range: \\n\\t', myfilter(IsPerfectSquare,lstInputRange))    "
   ]
  },
  {
   "cell_type": "markdown",
   "metadata": {},
   "source": [
    "### Problem 2. Implement List comprehensions to produce the following lists.\n",
    "Write List comprehensions to produce the following Lists <br>\n",
    "['A', 'C', 'A', 'D', 'G', 'I', ’L’, ‘ D’] <br>\n",
    "['x', 'xx', 'xxx', 'xxxx', 'y', 'yy', 'yyy', 'yyyy', 'z', 'zz', 'zzz', 'zzzz'] <br>\n",
    "['x', 'y', 'z', 'xx', 'yy', 'zz', 'xx', 'yy', 'zz', 'xxxx', 'yyyy', 'zzzz'] <br>\n",
    "[[2], [3], [4], [3], [4], [5], [4], [5], [6]] <br>\n",
    "[[2, 3, 4, 5], [3, 4, 5, 6], [4, 5, 6, 7], [5, 6, 7, 8]] <br>\n",
    "[(1, 1), (2, 1), (3, 1), (1, 2), (2, 2), (3, 2), (1, 3), (2, 3), (3, 3)] <br>"
   ]
  },
  {
   "cell_type": "code",
   "execution_count": 3,
   "metadata": {},
   "outputs": [
    {
     "name": "stdout",
     "output_type": "stream",
     "text": [
      "\n",
      "Problem-1\n",
      "['A', 'C', 'A', 'D', 'G', 'I', 'L', 'D']\n",
      "\n",
      "Problem-2\n",
      "['x', 'xx', 'xxx', 'xxxx', 'y', 'yy', 'yyy', 'yyyy', 'z', 'zz', 'zzz', 'zzzz']\n",
      "\n",
      "Problem-3\n",
      "['x', 'y', 'z', 'xx', 'yy', 'zz', 'xx', 'yy', 'zz', 'xxxx', 'yyyy', 'zzzz']\n",
      "\n",
      "Problem-4\n",
      "[[2], [3], [4], [3], [4], [5], [4], [5], [6]]\n",
      "\n",
      "Problem-5\n",
      "[[2, 3, 4, 5], [3, 4, 5, 6], [4, 5, 6, 7], [5, 6, 7, 8]]\n",
      "\n",
      "Problem-6\n",
      "[(1, 1), (2, 1), (3, 1), (1, 2), (2, 2), (3, 2), (1, 3), (2, 3), (3, 3)]\n"
     ]
    }
   ],
   "source": [
    "print('\\nProblem-1')\n",
    "strInput = 'ACADGILD'\n",
    "lstOutput=[Letter for Letter in strInput]\n",
    "print(lstOutput)\n",
    "\n",
    "print('\\nProblem-2')\n",
    "strInput = 'x,xx,xxx,xxxx,y,yy,yyy,yyyy,z,zz,zzz,zzzz'\n",
    "lstOutput=[Letter for Letter in strInput.split(',')]\n",
    "print(lstOutput)\n",
    "\n",
    "print('\\nProblem-3')\n",
    "strInput = 'x,y,z,xx,yy,zz,xx,yy,zz,xxxx,yyyy,zzzz'\n",
    "lstOutput=[Letter for Letter in strInput.split(',')]\n",
    "print(lstOutput)\n",
    "\n",
    "print('\\nProblem-4')\n",
    "strInput = '234345456'\n",
    "lstOutput=[[int(Letter)] for Letter in strInput]\n",
    "print(lstOutput)\n",
    "\n",
    "print('\\nProblem-5')\n",
    "strInput = [list(range(2,6)),list(range(3,7)),list(range(4,8)),list(range(5,9))]\n",
    "lstOutput=[Letter for Letter in strInput]\n",
    "print(lstOutput)\n",
    "\n",
    "print('\\nProblem-6')\n",
    "strInput = [(1, 1), (2, 1), (3, 1), (1, 2), (2, 2), (3, 2), (1, 3), (2, 3), (3, 3)]\n",
    "lstOutput=[Letter for Letter in strInput]\n",
    "print(lstOutput)"
   ]
  },
  {
   "cell_type": "markdown",
   "metadata": {},
   "source": [
    "### Problem 3. Implement a function longestWord() that takes a list of words and returns the longest one."
   ]
  },
  {
   "cell_type": "code",
   "execution_count": 4,
   "metadata": {},
   "outputs": [
    {
     "name": "stdout",
     "output_type": "stream",
     "text": [
      "List of words: \n",
      " ['Implement', 'a', 'function', 'that', 'takes', 'a', 'list', 'of', 'words', 'and', 'returns', 'the', 'longest', 'one'] \n",
      "\n",
      "Longest word: \n",
      " Implement\n"
     ]
    }
   ],
   "source": [
    "def logestWorld(lst_Word):    \n",
    "    longest_Word = ''    \n",
    "    for word in lst_Word:        \n",
    "        if len(longest_Word)<len(word):\n",
    "            longest_Word=word\n",
    "    return longest_Word\n",
    "\n",
    "#Call the function with a list\n",
    "strListofWords='Implement a function that takes a list of words and returns the longest one'\n",
    "lst_Of_Words=list(strListofWords.split(' '))\n",
    "print('List of words: \\n',lst_Of_Words, '\\n')\n",
    "print('Longest word: \\n',logestWorld(lst_Of_Words))"
   ]
  }
 ],
 "metadata": {
  "kernelspec": {
   "display_name": "Python 3",
   "language": "python",
   "name": "python3"
  },
  "language_info": {
   "codemirror_mode": {
    "name": "ipython",
    "version": 3
   },
   "file_extension": ".py",
   "mimetype": "text/x-python",
   "name": "python",
   "nbconvert_exporter": "python",
   "pygments_lexer": "ipython3",
   "version": "3.6.5"
  }
 },
 "nbformat": 4,
 "nbformat_minor": 2
}
